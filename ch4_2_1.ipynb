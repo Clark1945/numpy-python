{
 "cells": [
  {
   "cell_type": "code",
   "execution_count": null,
   "metadata": {},
   "outputs": [
    {
     "data": {
      "text/plain": [
       "array([-0.50112538,  0.41378829,  0.09213973, -0.35245044, -0.14155246,\n",
       "        0.1875644 ,  0.76465997, -0.41834733,  0.84938708, -0.23180561,\n",
       "       -0.33809074,  0.55104685,  0.69614961, -0.41981289,  0.96072012,\n",
       "       -0.49345125, -0.83445394,  0.86938269, -0.85545111, -0.2825566 ])"
      ]
     },
     "execution_count": 58,
     "metadata": {},
     "output_type": "execute_result"
    }
   ],
   "source": [
    "import numpy as np\n",
    "x=np.random.rand(20)*8-4\n",
    "y=np.sin(x)+np.random.rand(20)*0.2\n",
    "y"
   ]
  },
  {
   "cell_type": "code",
   "execution_count": null,
   "metadata": {},
   "outputs": [
    {
     "data": {
      "text/plain": [
       "array([-0.05207319,  0.00680714,  0.57686775,  0.07073318])"
      ]
     },
     "execution_count": 59,
     "metadata": {},
     "output_type": "execute_result"
    }
   ],
   "source": [
    "omega=np.polyfit(x,y,3) #假設關聯性為3次\n",
    "omega"
   ]
  },
  {
   "cell_type": "code",
   "execution_count": null,
   "metadata": {},
   "outputs": [
    {
     "data": {
      "image/png": "[encoded data removed]",
      "text/plain": [
       "<Figure size 432x288 with 1 Axes>"
      ]
     },
     "metadata": {
      "needs_background": "light"
     },
     "output_type": "display_data"
    }
   ],
   "source": [
    "f=np.poly1d(omega) #產生由高次方往低次方的多項式\n",
    "import matplotlib.pyplot as plt\n",
    "plt.xlabel(\"X\")\n",
    "plt.ylabel(\"Y\")\n",
    "plt.title(\"Using Pyplotfunction\")\n",
    "plt.grid() #繪製格線\n",
    "plt.scatter(x,y,marker=\"x\",c=\"red\") \n",
    "xx=np.linspace(-4,4,100)\n",
    "plt.plot(xx,f(xx),color=\"green\")\n",
    "plt.show()"
   ]
  },
  {
   "cell_type": "markdown",
   "metadata": {},
   "source": [
    "鳶尾花分類 機器學習經典案例"
   ]
  },
  {
   "cell_type": "code",
   "execution_count": 12,
   "metadata": {},
   "outputs": [],
   "source": [
    "import numpy as np\n",
    "import pandas as pd"
   ]
  },
  {
   "cell_type": "code",
   "execution_count": 23,
   "metadata": {},
   "outputs": [
    {
     "data": {
      "text/plain": [
       "array([0, 0, 0, 0, 0, 0, 0, 0, 0, 0, 0, 0, 0, 0, 0, 0, 0, 0, 0, 0, 0, 0,\n",
       "       0, 0, 0, 0, 0, 0, 0, 0, 0, 0, 0, 0, 0, 0, 0, 0, 0, 0, 0, 0, 0, 0,\n",
       "       0, 0, 0, 0, 0, 0, 1, 1, 1, 1, 1, 1, 1, 1, 1, 1, 1, 1, 1, 1, 1, 1,\n",
       "       1, 1, 1, 1, 1, 1, 1, 1, 1, 1, 1, 1, 1, 1, 1, 1, 1, 1, 1, 1, 1, 1,\n",
       "       1, 1, 1, 1, 1, 1, 1, 1, 1, 1, 1, 1])"
      ]
     },
     "execution_count": 23,
     "metadata": {},
     "output_type": "execute_result"
    }
   ],
   "source": [
    "df=pd.read_csv('iris.data',header=None)\n",
    "x=df.iloc[0:100,[0,1,2,3]].values\n",
    "y=df.iloc[0:100,4].values\n",
    "y=np.where(y=='Iris-setosa',0,1) #品種是否為Iris-setosa\n",
    "y"
   ]
  },
  {
   "cell_type": "code",
   "execution_count": 24,
   "metadata": {},
   "outputs": [],
   "source": [
    "x_train=np.empty((80,4))\n",
    "x_test=np.empty((20,4))\n",
    "y_train=np.empty(80)\n",
    "y_test=np.empty(20)"
   ]
  },
  {
   "cell_type": "markdown",
   "metadata": {},
   "source": [
    "取40份作為訓練資料，取10份作為測試資料"
   ]
  },
  {
   "cell_type": "code",
   "execution_count": 25,
   "metadata": {},
   "outputs": [],
   "source": [
    "x_train[:40],x_train[40:]=x[:40],x[50:90]\n",
    "x_test[:10],x_test[10:]=x[40:50],x[90:100]\n",
    "y_train[:40],y_train[40:]=y[:40],y[50:90]\n",
    "y_test[:10],y_test[10:]=y[40:50],y[90:100]"
   ]
  },
  {
   "cell_type": "code",
   "execution_count": 28,
   "metadata": {},
   "outputs": [],
   "source": [
    "#用sigmoid函數做為啟動函數的 演算法 值會介於1~0之間\n",
    "def sigmoid(x):\n",
    "    return 1/(1+np.exp(-x))\n",
    "\n",
    "#啟動函數的運算  矩陣乘法==np.dot()\n",
    "def activation(x,w,b):\n",
    "    return sigmoid(np.dot(x,w)+b)  \n",
    "\n",
    "#更新權重\n",
    "def update(x,y,w,b,eta): #x是輸入特徵，y是正確答案，w是權重，b是偏差，eta是學習率\n",
    "    \n",
    "    y_pred=activation(x,w,b)\n",
    "    a=(y_pred-y_train)*y_pred*(1-y_pred)\n",
    "    for i in range(4):\n",
    "        w[i] -= eta * 1/float(len(y)) * np.sum(a*x[:,i]) #更新權重\n",
    "    b=b-eta*1/float(len(y))*np.sum(a*x[:,i])\n",
    "    return w,b #更新權重與偏誤\n"
   ]
  },
  {
   "cell_type": "code",
   "execution_count": 56,
   "metadata": {},
   "outputs": [
    {
     "name": "stdout",
     "output_type": "stream",
     "text": [
      "weight= [-0.63812335 -1.71093082  2.38996206  1.16806019] bias= [1.16806019]\n"
     ]
    }
   ],
   "source": [
    "weights=np.ones(4)/10\n",
    "bias=np.ones(1)/10\n",
    "for _ in range(999): # 訓練週期\n",
    "    weights,bias=update(x_train,y_train,weights,bias,eta=0.9) #eta=是學習率\n",
    "print(\"weight=\",weights,\"bias=\",bias)"
   ]
  },
  {
   "cell_type": "code",
   "execution_count": 57,
   "metadata": {},
   "outputs": [
    {
     "data": {
      "text/plain": [
       "array([0., 0., 0., 0., 0., 0., 0., 0., 0., 0., 1., 1., 1., 1., 1., 1., 1.,\n",
       "       1., 1., 1.])"
      ]
     },
     "execution_count": 57,
     "metadata": {},
     "output_type": "execute_result"
    }
   ],
   "source": [
    "y_test"
   ]
  },
  {
   "cell_type": "code",
   "execution_count": 58,
   "metadata": {},
   "outputs": [
    {
     "data": {
      "text/plain": [
       "array([0.01042111, 0.10144537, 0.02244255, 0.02971208, 0.02712621,\n",
       "       0.03451091, 0.01066195, 0.02502035, 0.00878503, 0.01647872,\n",
       "       0.99410341, 0.99160614, 0.98165792, 0.95677865, 0.98934881,\n",
       "       0.97890663, 0.9840995 , 0.98279687, 0.89003087, 0.9830013 ])"
      ]
     },
     "execution_count": 58,
     "metadata": {},
     "output_type": "execute_result"
    }
   ],
   "source": [
    "activation(x_test,weights,bias)"
   ]
  },
  {
   "cell_type": "code",
   "execution_count": null,
   "metadata": {},
   "outputs": [],
   "source": []
  }
 ],
 "metadata": {
  "kernelspec": {
   "display_name": "Python 3.10.4 64-bit",
   "language": "python",
   "name": "python3"
  },
  "language_info": {
   "codemirror_mode": {
    "name": "ipython",
    "version": 3
   },
   "file_extension": ".py",
   "mimetype": "text/x-python",
   "name": "python",
   "nbconvert_exporter": "python",
   "pygments_lexer": "ipython3",
   "version": "3.10.4"
  },
  "orig_nbformat": 4,
  "vscode": {
   "interpreter": {
    "hash": "029906d47f000714b447e526905d1ea81e95ec1dbe2df571fb127d13f0c97131"
   }
  }
 },
 "nbformat": 4,
 "nbformat_minor": 2
}
