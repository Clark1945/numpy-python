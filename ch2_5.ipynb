{
 "cells": [
  {
   "cell_type": "markdown",
   "metadata": {},
   "source": [
    "找出最大值、最小值，或其索引位置。"
   ]
  },
  {
   "cell_type": "code",
   "execution_count": 2,
   "metadata": {},
   "outputs": [
    {
     "data": {
      "text/plain": [
       "3"
      ]
     },
     "execution_count": 2,
     "metadata": {},
     "output_type": "execute_result"
    }
   ],
   "source": [
    "import numpy as np\n",
    "a=np.amax(np.array([1,2,3,2,1]))\n",
    "a"
   ]
  },
  {
   "cell_type": "code",
   "execution_count": 3,
   "metadata": {},
   "outputs": [
    {
     "data": {
      "text/plain": [
       "array([2, 4])"
      ]
     },
     "execution_count": 3,
     "metadata": {},
     "output_type": "execute_result"
    }
   ],
   "source": [
    "arr=np.array([1,2,3,4]).reshape(2,2)\n",
    "np.amax(arr,axis=0)\n",
    "np.amax(arr,axis=1)"
   ]
  },
  {
   "cell_type": "code",
   "execution_count": 4,
   "metadata": {},
   "outputs": [
    {
     "data": {
      "text/plain": [
       "array([[29, 21, 26],\n",
       "       [24, 27, 18]])"
      ]
     },
     "execution_count": 4,
     "metadata": {},
     "output_type": "execute_result"
    }
   ],
   "source": [
    "arr=np.random.randint(30,size=(2,3,5))\n",
    "arr.max(axis=0)\n",
    "arr.max(axis=1)\n",
    "arr.max(axis=2)"
   ]
  },
  {
   "cell_type": "code",
   "execution_count": 5,
   "metadata": {},
   "outputs": [
    {
     "data": {
      "text/plain": [
       "array([[ 1,  3, 15, 13,  8],\n",
       "       [17, 15,  8,  4, 17],\n",
       "       [ 2,  2,  4,  8, 17]])"
      ]
     },
     "execution_count": 5,
     "metadata": {},
     "output_type": "execute_result"
    }
   ],
   "source": [
    "arr.min(axis=0)\n",
    "np.amin(arr,axis=0)\n"
   ]
  },
  {
   "cell_type": "code",
   "execution_count": 6,
   "metadata": {},
   "outputs": [
    {
     "data": {
      "text/plain": [
       "array([[1, 3, 3],\n",
       "       [0, 3, 0]], dtype=int64)"
      ]
     },
     "execution_count": 6,
     "metadata": {},
     "output_type": "execute_result"
    }
   ],
   "source": [
    "np.argmax(arr,axis=None)\n",
    "np.argmin(arr,axis=None)\n",
    "arr.argmax(axis=0)\n",
    "arr.argmax(axis=1)\n",
    "arr.argmax(axis=2)\n",
    "arr.argmin(axis=0)\n",
    "arr.argmin(axis=1)\n",
    "arr.argmin(axis=2)"
   ]
  },
  {
   "cell_type": "markdown",
   "metadata": {},
   "source": [
    "轉置矩陣"
   ]
  },
  {
   "cell_type": "code",
   "execution_count": 14,
   "metadata": {},
   "outputs": [
    {
     "data": {
      "text/plain": [
       "array([[ 0,  4,  8],\n",
       "       [ 1,  5,  9],\n",
       "       [ 2,  6, 10],\n",
       "       [ 3,  7, 11]])"
      ]
     },
     "execution_count": 14,
     "metadata": {},
     "output_type": "execute_result"
    }
   ],
   "source": [
    "a=np.arange(12).reshape(3,4)\n",
    "a\n",
    "a=np.transpose(a)#轉置矩陣\n",
    "a\n",
    "a=a.transpose()#轉置矩陣\n",
    "a\n",
    "a=a.T#轉置矩陣\n",
    "a"
   ]
  },
  {
   "cell_type": "markdown",
   "metadata": {},
   "source": [
    "排序"
   ]
  },
  {
   "cell_type": "code",
   "execution_count": 18,
   "metadata": {},
   "outputs": [
    {
     "data": {
      "text/plain": [
       "array([ 8, 17,  5,  6,  0,  7, 12,  2, 19, 10, 14,  1, 13,  3, 11, 18, 16,\n",
       "        4,  9, 15], dtype=int64)"
      ]
     },
     "execution_count": 18,
     "metadata": {},
     "output_type": "execute_result"
    }
   ],
   "source": [
    "a=np.random.randint(100,size=20)\n",
    "b=np.sort(a)\n",
    "b\n",
    "b=np.argsort(a)#傳回索引排序而不是值的排序\n",
    "b\n"
   ]
  },
  {
   "cell_type": "code",
   "execution_count": 23,
   "metadata": {},
   "outputs": [
    {
     "data": {
      "text/plain": [
       "array([(b'Bob', 12, 7.6), (b'David', 10, 7.6), (b'Casser',  1, 8.6),\n",
       "       (b'Alice', 25, 9.7)],\n",
       "      dtype=[('name', 'S10'), ('ID', '<i4'), ('score', '<f8')])"
      ]
     },
     "execution_count": 23,
     "metadata": {},
     "output_type": "execute_result"
    }
   ],
   "source": [
    "value=[('Alice',25,9.7),('Bob',12,7.6),('Casser',1,8.6),('David',10,7.6)]\n",
    "dt=[('name','S10'),('ID',int),('score',float)]\n",
    "a=np.array(value,dtype=dt)\n",
    "a\n",
    "a=np.sort(a,order='score')\n",
    "a"
   ]
  },
  {
   "cell_type": "markdown",
   "metadata": {},
   "source": [
    "陣列合併"
   ]
  },
  {
   "cell_type": "code",
   "execution_count": 26,
   "metadata": {},
   "outputs": [
    {
     "data": {
      "text/plain": [
       "array([ 0,  1,  2,  3,  4,  5,  6,  7,  8,  9, 10, 11,  0,  1])"
      ]
     },
     "execution_count": 26,
     "metadata": {},
     "output_type": "execute_result"
    }
   ],
   "source": [
    "a=np.arange(12)\n",
    "b=np.arange(5)\n",
    "c=np.hstack((a,b))\n",
    "c"
   ]
  },
  {
   "cell_type": "code",
   "execution_count": 29,
   "metadata": {},
   "outputs": [
    {
     "ename": "ValueError",
     "evalue": "all the input arrays must have same number of dimensions, but the array at index 0 has 2 dimension(s) and the array at index 1 has 1 dimension(s)",
     "output_type": "error",
     "traceback": [
      "\u001b[1;31m---------------------------------------------------------------------------\u001b[0m",
      "\u001b[1;31mValueError\u001b[0m                                Traceback (most recent call last)",
      "\u001b[1;32md:\\MyFold\\Programming data\\numpy-python\\ch2_5.ipynb Cell 14'\u001b[0m in \u001b[0;36m<cell line: 3>\u001b[1;34m()\u001b[0m\n\u001b[0;32m      <a href='vscode-notebook-cell:/d%3A/MyFold/Programming%20data/numpy-python/ch2_5.ipynb#ch0000015?line=0'>1</a>\u001b[0m a\u001b[39m=\u001b[39mnp\u001b[39m.\u001b[39marange(\u001b[39m4\u001b[39m)\u001b[39m.\u001b[39mreshape(\u001b[39m2\u001b[39m,\u001b[39m2\u001b[39m)\n\u001b[0;32m      <a href='vscode-notebook-cell:/d%3A/MyFold/Programming%20data/numpy-python/ch2_5.ipynb#ch0000015?line=1'>2</a>\u001b[0m b\u001b[39m=\u001b[39mnp\u001b[39m.\u001b[39marange(\u001b[39m5\u001b[39m)\n\u001b[1;32m----> <a href='vscode-notebook-cell:/d%3A/MyFold/Programming%20data/numpy-python/ch2_5.ipynb#ch0000015?line=2'>3</a>\u001b[0m c\u001b[39m=\u001b[39mnp\u001b[39m.\u001b[39;49mhstack((a,b))\n\u001b[0;32m      <a href='vscode-notebook-cell:/d%3A/MyFold/Programming%20data/numpy-python/ch2_5.ipynb#ch0000015?line=3'>4</a>\u001b[0m c\n",
      "File \u001b[1;32m<__array_function__ internals>:180\u001b[0m, in \u001b[0;36mhstack\u001b[1;34m(*args, **kwargs)\u001b[0m\n",
      "File \u001b[1;32md:\\MyFold\\PYTHON\\lib\\site-packages\\numpy\\core\\shape_base.py:345\u001b[0m, in \u001b[0;36mhstack\u001b[1;34m(tup)\u001b[0m\n\u001b[0;32m    343\u001b[0m     \u001b[39mreturn\u001b[39;00m _nx\u001b[39m.\u001b[39mconcatenate(arrs, \u001b[39m0\u001b[39m)\n\u001b[0;32m    344\u001b[0m \u001b[39melse\u001b[39;00m:\n\u001b[1;32m--> 345\u001b[0m     \u001b[39mreturn\u001b[39;00m _nx\u001b[39m.\u001b[39;49mconcatenate(arrs, \u001b[39m1\u001b[39;49m)\n",
      "File \u001b[1;32m<__array_function__ internals>:180\u001b[0m, in \u001b[0;36mconcatenate\u001b[1;34m(*args, **kwargs)\u001b[0m\n",
      "\u001b[1;31mValueError\u001b[0m: all the input arrays must have same number of dimensions, but the array at index 0 has 2 dimension(s) and the array at index 1 has 1 dimension(s)"
     ]
    }
   ],
   "source": [
    "a=np.arange(4).reshape(2,2)\n",
    "b=np.arange(5)\n",
    "c=np.hstack((a,b))\n",
    "c\n",
    "#會出現Error"
   ]
  },
  {
   "cell_type": "code",
   "execution_count": 30,
   "metadata": {},
   "outputs": [
    {
     "data": {
      "text/plain": [
       "array([[0, 1, 0, 1, 2],\n",
       "       [2, 3, 3, 4, 5]])"
      ]
     },
     "execution_count": 30,
     "metadata": {},
     "output_type": "execute_result"
    }
   ],
   "source": [
    "c=np.arange(4).reshape(2,2)\n",
    "d=np.arange(6).reshape(2,3)\n",
    "np.hstack((c,d))\n",
    "#以第一軸為主合併"
   ]
  },
  {
   "cell_type": "code",
   "execution_count": 32,
   "metadata": {},
   "outputs": [
    {
     "data": {
      "text/plain": [
       "array([[[ 0,  1,  2],\n",
       "        [ 3,  4,  5],\n",
       "        [ 0,  1,  2]],\n",
       "\n",
       "       [[ 6,  7,  8],\n",
       "        [ 9, 10, 11],\n",
       "        [ 3,  4,  5]]])"
      ]
     },
     "execution_count": 32,
     "metadata": {},
     "output_type": "execute_result"
    }
   ],
   "source": [
    "e=np.arange(12).reshape(2,2,3)\n",
    "f=np.arange(6).reshape(2,1,3)\n",
    "np.hstack((e,f))"
   ]
  },
  {
   "cell_type": "code",
   "execution_count": null,
   "metadata": {},
   "outputs": [],
   "source": [
    "a=np.arange(12).reshape(-1,1)\n",
    "b=np.arange(2).reshape(-1,1)\n",
    "c=np.arange(2).reshape(1,2)\n",
    "d=np.arange(4).reshape(2,2)\n",
    "np.vstack((c,d))"
   ]
  }
 ],
 "metadata": {
  "kernelspec": {
   "display_name": "Python 3.10.4 64-bit",
   "language": "python",
   "name": "python3"
  },
  "language_info": {
   "codemirror_mode": {
    "name": "ipython",
    "version": 3
   },
   "file_extension": ".py",
   "mimetype": "text/x-python",
   "name": "python",
   "nbconvert_exporter": "python",
   "pygments_lexer": "ipython3",
   "version": "3.10.4"
  },
  "orig_nbformat": 4,
  "vscode": {
   "interpreter": {
    "hash": "029906d47f000714b447e526905d1ea81e95ec1dbe2df571fb127d13f0c97131"
   }
  }
 },
 "nbformat": 4,
 "nbformat_minor": 2
}
